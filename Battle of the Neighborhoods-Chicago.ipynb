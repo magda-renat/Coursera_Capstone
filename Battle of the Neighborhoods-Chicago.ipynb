{
    "cells": [
        {
            "cell_type": "markdown",
            "metadata": {
                "collapsed": true
            },
            "source": "# The Battle of the Neighborhoods-Chicago and COVID-19\n***"
        },
        {
            "cell_type": "markdown",
            "metadata": {},
            "source": "## Project Motivation and Background"
        },
        {
            "cell_type": "markdown",
            "metadata": {},
            "source": "### *Covid-19*\nSince December 2019, the novel coronavirus, COVID-19, has infected over 80 million people and killed over 1 million individuals in 222 different countries, according to the World Health Organization ([WHO](https://www.who.int/emergencies/diseases/novel-coronavirus-2019)). The pandemic has affected individuals from all walks of life, physically as well as financially. Jobs have been lost, friends and family members have died and mask wearing and increased sanitation measures have become the new \"normal\" for many people all over the world. While many countries have been affected by COVID-19, the United States currently has the greatest number of documented cases (19 million) and deaths (332,000).  With the ever-increasing number of cases and unemployment in the US and around the world, it will be imperative for governments to enusre vaccine availability for citizens.  \n\n### *Equal Access?*\nIn May and September 2020, studies were performed to determine whether Americans in povery and American people of color were disproportionately affected by COVID-19 and the results were staggering.  As of September 2020, [NPR](https://www.npr.org/sections/health-shots/2020/09/23/914427907/as-pandemic-deaths-add-up-racial-disparities-persist-and-in-some-cases-worsen) reports that the COVID-19 death rates for Hispanics and Native Americans are approximately 1.5 times the rate of white Americans. Additionally, it was reported that African Americans were dying at 2.4 times the rate of white Americans. With the upcoming releases of the Moderna and Pfizer COVID-19 vaccines, it will be essential for vaccines to be distributed to all Americans equally, regardless of race or socioeconomic status in order to stop the spread of the virus.  This project will focus on the announced distribution of COVID-19 vaccines in the city of Chicago, IL.  The city of Chicago has announced planned vaccination sites throughout the city and we will examine the locations of these sites with regard to population and demographics to determine if COVID-19 vaccinces will be accessible to all Chicago citizens regardless of location. \n\n### *Chicago, IL Background*\nAs of July, 2019, the city of Chicago, IL had a population of approximately 2,693,976 people. There are over 100 neighborhoods in the city and 77 recognized Community Areas.  Chicago has multiple universities, sports teams, arts organizations and parks.  The city describes itself as a [melting pot](https://www.chicago.gov/city/en/about/facts.html) with people of various cultures and backgrounds calling the city 'home.'  \n"
        },
        {
            "cell_type": "markdown",
            "metadata": {},
            "source": "## Data and Resources"
        },
        {
            "cell_type": "markdown",
            "metadata": {},
            "source": "\n*US Census Bureau: Chicago, IL Quickfacts*                        \n https://www.census.gov/quickfacts/chicagocityillinois\n\n*Chicago.gov: Community Areas and Zip Code Information*                                     \n https://www.chicago.gov/content/dam/city/sites/covid/reports/2020-04-24/ChicagoCommunityAreaandZipcodeMap.pdf\n\n*Chicago Data Portal: Chicago socioeconomic indicators, COVID-19 cases, deaths & hosptalisations, COVID-19 testing sites*                 \n https://data.cityofchicago.org/Health-Human-Services/Census-Data-Selected-socioeconomic-indicators-in-C/kn9c-c2s2\n\n https://data.cityofchicago.org/Health-Human-Services/COVID-19-Daily-Cases-Deaths-and-Hospitalizations/naz8-j4nc\n\n https://data.cityofchicago.org/Health-Human-Services/COVID-19-Testing-Sites-Map/j2wj-wjrp\n\n*Illinois.gov: Chicago demographic data for community areas*                                           \n https://datahub.cmap.illinois.gov/dataset/1d2dd970-f0a6-4736-96a1-3caeb431f5e4/resource/8c4e096e-c90c-4bef-9cf1-9028d094296e/download/ReferenceCCAProfiles20142018.csv\n\n*World Health Organisation*                                         \n https://covid19.who.int/\n \n In addition to the above sites used for data gathering, we will also be utilizing Foursquare Location Data to gain a better look at the Chicago neighborhoods & zipcodes where the COVID-19 vaccine will be offered. In particular, we will look at public transportation options, pharmacies and hospitals in the areas.  "
        },
        {
            "cell_type": "markdown",
            "metadata": {},
            "source": "## Data Usage & Project Plan\n\n#### Project steps:\n\n#### *Data Collection & Cleaning*                                        \nCollect and clean Chicago, IL QuickFacts Data                                        \nCollect and clean Chicago, IL Community Areas and Zip Code Data                              \nCollect and clean Chicago, IL Socioeconomic Indicators Data                           \nCollect and clean Chicago, IL Vaccinations by Zip Code Data                   \nCollect Chicago, IL Daily COVID Cases, Deaths & Hospitalizations Data                     \nCollect Chicago, IL COVID-19 Testing Sites Data                       \n\n#### *Gather Foursquare API Credentials*                 \n#### *Dataset Integration *               \n#### *Statistical Analysis and Visualizations*                            \n#### *K-Means Neighborhood Clustering Analysis on COVID-19 vaccince locations*                            \n#### *Visualization of Clusters*                                 \n#### *Analyze Results*                                 "
        },
        {
            "cell_type": "code",
            "execution_count": null,
            "metadata": {},
            "outputs": [],
            "source": ""
        }
    ],
    "metadata": {
        "kernelspec": {
            "display_name": "Python 3.7",
            "language": "python",
            "name": "python3"
        },
        "language_info": {
            "codemirror_mode": {
                "name": "ipython",
                "version": 3
            },
            "file_extension": ".py",
            "mimetype": "text/x-python",
            "name": "python",
            "nbconvert_exporter": "python",
            "pygments_lexer": "ipython3",
            "version": "3.7.9"
        }
    },
    "nbformat": 4,
    "nbformat_minor": 1
}